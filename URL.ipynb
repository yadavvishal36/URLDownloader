{
 "cells": [
  {
   "cell_type": "markdown",
   "metadata": {},
   "source": [
    "# URL DOWNLOADER"
   ]
  },
  {
   "cell_type": "code",
   "execution_count": 7,
   "metadata": {},
   "outputs": [
    {
     "name": "stdout",
     "output_type": "stream",
     "text": [
      "File ' file.pdf' downloaded successfully.\n"
     ]
    }
   ],
   "source": [
    "import requests\n",
    "\n",
    "def download_file(url, file_name):\n",
    "    #send a GET requests to the provided url \n",
    "    response = requests.get(url)\n",
    "\n",
    "    # check if the requests was successful ( status code 200)\n",
    "    if response.status_code == 200:\n",
    "      #open a local file in binary wrote mode and save the content \n",
    "       with open(file_name, 'wb') as file:\n",
    "           file.write(response.content)\n",
    "       print(f\"File ' {file_name}' downloaded successfully.\")\n",
    "    else:\n",
    "               print(f\"failed to download file. Status code: {response.status_code}\")#example usage\n",
    "\n",
    "if __name__==\"__main__\":\n",
    "    url = 'https://www.pdfdrive.com/'\n",
    "    file_name = 'file.pdf'\n",
    "    download_file(url, file_name)"
   ]
  },
  {
   "cell_type": "code",
   "execution_count": null,
   "metadata": {},
   "outputs": [],
   "source": []
  }
 ],
 "metadata": {
  "kernelspec": {
   "display_name": "Python 3",
   "language": "python",
   "name": "python3"
  },
  "language_info": {
   "codemirror_mode": {
    "name": "ipython",
    "version": 3
   },
   "file_extension": ".py",
   "mimetype": "text/x-python",
   "name": "python",
   "nbconvert_exporter": "python",
   "pygments_lexer": "ipython3",
   "version": "3.12.4"
  }
 },
 "nbformat": 4,
 "nbformat_minor": 2
}
